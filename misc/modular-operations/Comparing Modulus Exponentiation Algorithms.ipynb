{
 "cells": [
  {
   "cell_type": "code",
   "execution_count": 1,
   "metadata": {},
   "outputs": [
    {
     "name": "stdout",
     "output_type": "stream",
     "text": [
      "Algorithm            | Time elapsed         | Result              \n",
      "Regular              | 0:0:5                | 1                   \n",
      "Fast                 | 0:0:0                | 1                   \n"
     ]
    }
   ],
   "source": [
    "from time import time\n",
    "from exponentiation import *\n",
    "\n",
    "begin = time()\n",
    "result_regular = regular_modulus_exp(7, 10000000, 10)\n",
    "end = time()\n",
    "time_regular = end - begin\n",
    "\n",
    "begin = time()\n",
    "result_fast = fast_modulus_exp(7, 10000000, 10)\n",
    "#result_fast = fast_modulus_exp(71045970, 41535484, 64735492)\n",
    "end = time()\n",
    "time_fast = end - begin\n",
    "\n",
    "print(\"{:20s} | {:20s} | {:20s}\".format(\"Algorithm\", \"Time elapsed\", \"Result\"))\n",
    "print(\"{:20s} | {:20s} | {:20s}\".format(\"Regular\", \"{:d}:{:d}:{:d}\".format(int(time_regular/3600), int((time_regular%3600)/60), int((time_regular%3600)%60)), str(result_regular)))\n",
    "print(\"{:20s} | {:20s} | {:20s}\".format(\"Fast\", \"{:d}:{:d}:{:d}\".format(int(time_fast/3600), int((time_fast%3600)/60), int((time_fast%3600)%60)), str(result_fast)))"
   ]
  }
 ],
 "metadata": {
  "kernelspec": {
   "display_name": "Python 3",
   "language": "python",
   "name": "python3"
  },
  "language_info": {
   "codemirror_mode": {
    "name": "ipython",
    "version": 3
   },
   "file_extension": ".py",
   "mimetype": "text/x-python",
   "name": "python",
   "nbconvert_exporter": "python",
   "pygments_lexer": "ipython3",
   "version": "3.6.5"
  }
 },
 "nbformat": 4,
 "nbformat_minor": 2
}
